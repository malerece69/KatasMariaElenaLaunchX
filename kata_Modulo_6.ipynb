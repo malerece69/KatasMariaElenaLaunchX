{
 "cells": [
  {
   "cell_type": "markdown",
   "metadata": {},
   "source": [
    "# Ejercicio1: Crear y usar listas de Python\n",
    "# Ejercicio: Usar listas para almacenar nombres de planetas"
   ]
  },
  {
   "cell_type": "code",
   "execution_count": 3,
   "metadata": {},
   "outputs": [
    {
     "name": "stdout",
     "output_type": "stream",
     "text": [
      "Hay 8 planetas\n",
      "Hay 9 planetas\n",
      "Pluton  es el último planeta\n"
     ]
    }
   ],
   "source": [
    "# En primer lugar, crea una variable denominada planets. Agrega los ocho planetas \n",
    "# sin Plutón) a la lista. A continuación, muestra el número de planetas.\n",
    "\n",
    "planets=['Mercurio','Venus','Tierra','Marte','Jupiter','Saturno','Urano','Neptuno']\n",
    "\n",
    "print('Hay', len(planets), 'planetas')\n",
    "planets.append('Pluton')\n",
    "\n",
    "print('Hay', len(planets), 'planetas')\n",
    "\n",
    "print(planets[-1], ' es el último planeta')\n"
   ]
  },
  {
   "cell_type": "markdown",
   "metadata": {},
   "source": [
    "# Ejercicio 2: Trabajando con datos de una lista\n",
    "# Usar slices para recuperar partes de una lista"
   ]
  },
  {
   "cell_type": "code",
   "execution_count": 8,
   "metadata": {},
   "outputs": [
    {
     "name": "stdout",
     "output_type": "stream",
     "text": [
      "indice del planeta en la lista  2\n"
     ]
    }
   ],
   "source": [
    "# Lista de planetas\n",
    "planets = ['Mercury', 'Venus', 'Earth', 'Mars', 'Jupiter', 'Saturn', 'Neptune']\n",
    "\n",
    "# Solicita al usuario el nombre de un planeta\n",
    "\n",
    "planeta_usuario = input('Por favor introduzaca el nombre del planeta (Iniciando con letra mayucula)')\n",
    "\n",
    "# Buscar el planeta en la lista\n",
    "\n",
    "planeta_index = planets.index(planeta_usuario)\n",
    "\n",
    "print('indice del planeta en la lista ',planeta_index)"
   ]
  },
  {
   "cell_type": "code",
   "execution_count": 11,
   "metadata": {},
   "outputs": [
    {
     "name": "stdout",
     "output_type": "stream",
     "text": [
      "Estos son los planetas mas cercanos al sol Earth\n",
      "['Mercury', 'Venus']\n",
      "Estos son los planetas mas lejanos del Sol Earth\n",
      "['Mars', 'Jupiter', 'Saturn', 'Neptune']\n"
     ]
    }
   ],
   "source": [
    "# Muestra los planetas más cercanos al sol\n",
    "\n",
    "print('Estos son los planetas mas cercanos al sol ' + planeta_usuario)\n",
    "print(planets[0:planeta_index])\n",
    "\n",
    "# Muestra los planetas más lejanos al sol\n",
    "\n",
    "print('Estos son los planetas mas lejanos del Sol '+ planeta_usuario)\n",
    "print(planets[planeta_index + 1:])"
   ]
  }
 ],
 "metadata": {
  "interpreter": {
   "hash": "63fd5069d213b44bf678585dea6b12cceca9941eaf7f819626cde1f2670de90d"
  },
  "kernelspec": {
   "display_name": "Python 3.9.6 64-bit",
   "language": "python",
   "name": "python3"
  },
  "language_info": {
   "codemirror_mode": {
    "name": "ipython",
    "version": 3
   },
   "file_extension": ".py",
   "mimetype": "text/x-python",
   "name": "python",
   "nbconvert_exporter": "python",
   "pygments_lexer": "ipython3",
   "version": "3.9.6"
  },
  "orig_nbformat": 4
 },
 "nbformat": 4,
 "nbformat_minor": 2
}
