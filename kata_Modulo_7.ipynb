{
 "cells": [
  {
   "cell_type": "markdown",
   "metadata": {},
   "source": [
    "# Ejercicio 1: Creación de un bucle \"while\""
   ]
  },
  {
   "cell_type": "code",
   "execution_count": 3,
   "metadata": {},
   "outputs": [],
   "source": [
    "# Crear una lista usando un ciclo while\n",
    "# El usuario introducirá cadenas de nombre de planeta hasta que introduzca la palaba \"done\" \n",
    "# Declaramos 2 variables\n",
    "# nuevo_planeta que recibirá el nombre de los planetas que se guardaran en la lista\n",
    "# planetas que será la lista donde se guardaran los nombres de planetas introducidos\n",
    "\n",
    "nuevo_planeta = ''\n",
    "planetas = []\n",
    "# Escribe el ciclo while solicitado\n",
    "# el método lower ayudará a realizar la condición aunque se introduzca en mayúscula\n",
    "while nuevo_planeta.lower() != 'done':\n",
    "    if nuevo_planeta:\n",
    "        planetas.append(nuevo_planeta)\n",
    "    nuevo_planeta = input('Introduzca un nuevo planeta: ')"
   ]
  },
  {
   "cell_type": "markdown",
   "metadata": {},
   "source": [
    "# Ejercicio 2: Creación de un ciclo \"for\""
   ]
  },
  {
   "cell_type": "code",
   "execution_count": 4,
   "metadata": {},
   "outputs": [
    {
     "name": "stdout",
     "output_type": "stream",
     "text": [
      "TIERRA\n",
      "Martes\n",
      "mercurio\n"
     ]
    }
   ],
   "source": [
    "# En el ejecicio 1 la variable planetas almacena los nombres de planetas que ha introducido un usuario. \n",
    "# Ahora se creará un ciclo para mostrar las entradas.\n",
    "\n",
    "for planeta in planetas:\n",
    "    print(planeta)"
   ]
  }
 ],
 "metadata": {
  "interpreter": {
   "hash": "63fd5069d213b44bf678585dea6b12cceca9941eaf7f819626cde1f2670de90d"
  },
  "kernelspec": {
   "display_name": "Python 3.9.6 64-bit",
   "language": "python",
   "name": "python3"
  },
  "language_info": {
   "codemirror_mode": {
    "name": "ipython",
    "version": 3
   },
   "file_extension": ".py",
   "mimetype": "text/x-python",
   "name": "python",
   "nbconvert_exporter": "python",
   "pygments_lexer": "ipython3",
   "version": "3.9.6"
  },
  "orig_nbformat": 4
 },
 "nbformat": 4,
 "nbformat_minor": 2
}
