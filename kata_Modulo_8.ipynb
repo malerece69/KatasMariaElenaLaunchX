{
 "cells": [
  {
   "cell_type": "markdown",
   "metadata": {},
   "source": [
    "# Ejercicio 1: Creación de diccionarios de Python"
   ]
  },
  {
   "cell_type": "code",
   "execution_count": 4,
   "metadata": {},
   "outputs": [
    {
     "name": "stdout",
     "output_type": "stream",
     "text": [
      "Mars has 2 moons\n",
      "Mars has a polar circunferencia of 6752\n"
     ]
    }
   ],
   "source": [
    "# Crear y modificar un diccionario de Python\n",
    "\n",
    "# Crear un diccionario que almacene información sobre el planeta Marte.\n",
    "\n",
    "planet = {\n",
    "    'name': 'Mars',\n",
    "    'moons': 2\n",
    "}\n",
    "\n",
    "# Muestra el nombre del planeta y el número de lunas que tiene.\n",
    "\n",
    "print(f'{planet[\"name\"]} has {planet[\"moons\"]} moons')\n",
    "\n",
    "# Agrega la clave circunferencia con los datos proporcionados previamente\n",
    "\n",
    "planet['circunferencia (km)'] = {\n",
    "    'polar': 6752,\n",
    "    'equatorial': 6792\n",
    "}\n",
    "\n",
    "# Imprime el nombre del planeta con su circunferencia polar.\n",
    "\n",
    "print(f'{planet[\"name\"]} has a polar circunferencia of {planet[\"circunferencia (km)\"][\"polar\"]}')"
   ]
  },
  {
   "cell_type": "markdown",
   "metadata": {},
   "source": [
    "# Ejercicio 2: Programación dinámica con diccionarios"
   ]
  },
  {
   "cell_type": "code",
   "execution_count": 11,
   "metadata": {},
   "outputs": [
    {
     "name": "stdout",
     "output_type": "stream",
     "text": [
      "mercury:0 cm\n",
      "venus:0 cm\n",
      "earth:1 cm\n",
      "mars:2 cm\n",
      "jupiter:79 cm\n",
      "saturn:82 cm\n",
      "uranus:27 cm\n",
      "neptune:14 cm\n",
      "pluto:5 cm\n",
      "haumea:2 cm\n",
      "makemake:1 cm\n",
      "eris:1 cm\n",
      "promedio de lunas: 17.833333333333332\n",
      "promedio de lunas: 17.833333333333332\n"
     ]
    }
   ],
   "source": [
    "# Ejercicio: Cálculo de valores\n",
    "# Calcular tanto el número total de lunas en el sistema solar como el número promedio de lunas que tiene un planeta.\n",
    "\n",
    "# Creacion del diccionario planet_moons \n",
    "\n",
    "planet_moons = {\n",
    "    'mercury': 0,\n",
    "    'venus': 0,\n",
    "    'earth': 1,\n",
    "    'mars': 2,\n",
    "    'jupiter': 79,\n",
    "    'saturn': 82,\n",
    "    'uranus': 27,\n",
    "    'neptune': 14,\n",
    "    'pluto': 5,\n",
    "    'haumea': 2,\n",
    "    'makemake': 1,\n",
    "    'eris': 1\n",
    "}\n",
    "\n",
    "# Añade el código para determinar el número de lunas.\n",
    "\n",
    "# Obtener la lista de las lunas\n",
    "# Almacenar los resultados en una variable moons\n",
    "moons = planet_moons.values()\n",
    "\n",
    "#Recuperando todas las claves y valores\n",
    "for key in planet_moons.keys():\n",
    "    print(f'{key}:{planet_moons[key]} cm')\n",
    "\n",
    "# Obtenemos el total de planetas en la variable planets\n",
    "planets = len(planet_moons.keys())\n",
    "\n",
    "# Calcula el total de lunas agregando todas las lunas\n",
    "# Y almacenando el valor en una variable llamada total_moons\n",
    "\n",
    "total_moons = 0\n",
    "for moon in moons:\n",
    "    total_moons = total_moons + moon\n",
    "\n",
    "# Calcula el promedio dividiendo el total_moons por el número de planetas\n",
    "average = total_moons / planets\n",
    "\n",
    "# Muestra el promedio\n",
    "print('promedio de lunas: ' + str(average))\n",
    "\n",
    "# Mostrar promedio con formato\n",
    "print(f'promedio de lunas: {average}')\n",
    "\n"
   ]
  }
 ],
 "metadata": {
  "interpreter": {
   "hash": "63fd5069d213b44bf678585dea6b12cceca9941eaf7f819626cde1f2670de90d"
  },
  "kernelspec": {
   "display_name": "Python 3.9.6 64-bit",
   "language": "python",
   "name": "python3"
  },
  "language_info": {
   "codemirror_mode": {
    "name": "ipython",
    "version": 3
   },
   "file_extension": ".py",
   "mimetype": "text/x-python",
   "name": "python",
   "nbconvert_exporter": "python",
   "pygments_lexer": "ipython3",
   "version": "3.9.6"
  },
  "orig_nbformat": 4
 },
 "nbformat": 4,
 "nbformat_minor": 2
}
