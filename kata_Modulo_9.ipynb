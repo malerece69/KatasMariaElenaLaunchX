{
 "cells": [
  {
   "cell_type": "markdown",
   "metadata": {},
   "source": [
    "# Ejercicio: Uso de funciones en Python\n",
    "\n",
    "# Ejercicio 1: Trabajar con argumentos en funciones"
   ]
  },
  {
   "cell_type": "code",
   "execution_count": 3,
   "metadata": {},
   "outputs": [
    {
     "name": "stdout",
     "output_type": "stream",
     "text": [
      "Fuel Report:\n",
      "    Total Average: 78.33333333333333%\n",
      "    Main tank: 80%\n",
      "    Especial tank: 70%\n",
      "    Amoniac tank: 85% \n",
      "    \n"
     ]
    }
   ],
   "source": [
    "# crear una función que necesite tres lecturas de combustible y devuelva un informe\n",
    "\n",
    "def generate_report(main_tank, especial_tank, amoniac_tank):\n",
    "    total_average = (main_tank + especial_tank + amoniac_tank) / 3\n",
    "    return f\"\"\"Fuel Report:\n",
    "    Total Average: {total_average}%\n",
    "    Main tank: {main_tank}%\n",
    "    Especial tank: {especial_tank}%\n",
    "    Amoniac tank: {amoniac_tank}% \n",
    "    \"\"\"\n",
    "\n",
    "# Llamamos a la función que genera el reporte print(funcion(tanque1, tanque2, tanque3))\n",
    "print(generate_report(80, 70, 85))"
   ]
  },
  {
   "cell_type": "code",
   "execution_count": 9,
   "metadata": {},
   "outputs": [
    {
     "name": "stdout",
     "output_type": "stream",
     "text": [
      "Total:  416\n",
      "numero de parametros:  5\n"
     ]
    },
    {
     "data": {
      "text/plain": [
       "'Promedio:83.2'"
      ]
     },
     "execution_count": 9,
     "metadata": {},
     "output_type": "execute_result"
    }
   ],
   "source": [
    "# Función que calcula el promedio \n",
    "def average(values):\n",
    "    #sumar los valor de los parametros\n",
    "    total = sum(values)\n",
    "    print('Total: ',total)\n",
    "    #calcular la cantidad de parametros\n",
    "    number_of_items = len(values)\n",
    "    print('numero de parametros: ',number_of_items)\n",
    "    return f'Promedio:{total / number_of_items}'\n",
    "\n",
    "# Test the averaging function with a list of integers:\n",
    "average([80, 85, 81,90,80]) "
   ]
  },
  {
   "cell_type": "code",
   "execution_count": 10,
   "metadata": {},
   "outputs": [
    {
     "name": "stdout",
     "output_type": "stream",
     "text": [
      "Total:  234\n",
      "numero de parametros:  3\n",
      "Fuel Report:\n",
      "    Total Average: Promedio:78.0%\n",
      "    Main tank: 88%\n",
      "    External tank: 76%\n",
      "    Hydrogen tank: 70% \n",
      "    \n"
     ]
    }
   ],
   "source": [
    "# Actualizar la función de informes para llamando a la nueva función del promedio\n",
    "\n",
    "def generate_report(main_tank, especial_tank, amoniac_tank):\n",
    "    return f\"\"\"Fuel Report:\n",
    "    Total Average: {average([main_tank, especial_tank, amoniac_tank])}%\n",
    "    Main tank: {main_tank}%\n",
    "    External tank: {especial_tank}%\n",
    "    Hydrogen tank: {amoniac_tank}% \n",
    "    \"\"\"\n",
    "\n",
    "# Llmada a la función de informes actualizada \n",
    "print(generate_report(88, 76, 70))"
   ]
  },
  {
   "cell_type": "markdown",
   "metadata": {},
   "source": [
    "# Ejercicio 2: Trabajo con argumentos de palabra clave\n",
    "# Ejercicio : Trabajar con argumentos de palabras clave en funciones"
   ]
  },
  {
   "cell_type": "code",
   "execution_count": 12,
   "metadata": {},
   "outputs": [
    {
     "name": "stdout",
     "output_type": "stream",
     "text": [
      "\n",
      "    Mission to Moon\n",
      "    Total travel time: 65 minutes\n",
      "    Total fuel left: 500000 gallons\n",
      "    \n",
      "\n",
      "    Mission to Luna\n",
      "    Total travel time: 76 minutes\n",
      "    Total fuel left: 500000\n",
      "    \n",
      "\n",
      "    Mission to Luna\n",
      "    Total travel time: 74 minutes\n",
      "    Total fuel left: 500000\n",
      "    main tank --> 300000 gallons left\n",
      "external tank --> 200000 gallons left\n",
      "\n"
     ]
    }
   ],
   "source": [
    "# En este ejercicio, construirás un informe de cohete que requiere varias piezas de información, como el tiempo hasta\n",
    "# el destino, el combustible a la izquierda y el nombre del destino. \n",
    "\n",
    "# Función con un informe preciso de la misión. Considera hora de prelanzamiento, tiempo de vuelo, destino, tanque externo\n",
    "# y tanque interno\n",
    "\n",
    "def mission_report(prelanzamiento_time, vuelo_time, destino, external_tank, main_tank):\n",
    "    return f\"\"\"\n",
    "    Mission to {destino}\n",
    "    Total travel time: {prelanzamiento_time + vuelo_time} minutes\n",
    "    Total fuel left: {external_tank + main_tank} gallons\n",
    "    \"\"\"\n",
    "\n",
    "print(mission_report(14, 51, \"Moon\", 200000, 300000))\n",
    "# Escribe tu nueva función de reporte considerando lo anterior\n",
    "\n",
    "def mission_report(destino, *minutes, **fuel_reservoirs):\n",
    "    return f\"\"\"\n",
    "    Mission to {destino}\n",
    "    Total travel time: {sum(minutes)} minutes\n",
    "    Total fuel left: {sum(fuel_reservoirs.values())}\n",
    "    \"\"\"\n",
    "\n",
    "print(mission_report(\"Luna\", 10, 15, 51, main=300000, external=200000))\n",
    "# Escribe tu nueva función\n",
    "\n",
    "def mission_report(destino, *minutes, **fuel_reservoirs):\n",
    "    main_report = f\"\"\"\n",
    "    Mission to {destino}\n",
    "    Total travel time: {sum(minutes)} minutes\n",
    "    Total fuel left: {sum(fuel_reservoirs.values())}\n",
    "    \"\"\"\n",
    "    for tank_name, gallons in fuel_reservoirs.items():\n",
    "        main_report += f\"{tank_name} tank --> {gallons} gallons left\\n\"\n",
    "    return main_report\n",
    "\n",
    "print(mission_report(\"Luna\", 8, 11, 55, main=300000, external=200000))"
   ]
  }
 ],
 "metadata": {
  "interpreter": {
   "hash": "63fd5069d213b44bf678585dea6b12cceca9941eaf7f819626cde1f2670de90d"
  },
  "kernelspec": {
   "display_name": "Python 3.9.6 64-bit",
   "language": "python",
   "name": "python3"
  },
  "language_info": {
   "codemirror_mode": {
    "name": "ipython",
    "version": 3
   },
   "file_extension": ".py",
   "mimetype": "text/x-python",
   "name": "python",
   "nbconvert_exporter": "python",
   "pygments_lexer": "ipython3",
   "version": "3.9.6"
  },
  "orig_nbformat": 4
 },
 "nbformat": 4,
 "nbformat_minor": 2
}
