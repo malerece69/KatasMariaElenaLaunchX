{
 "cells": [
  {
   "cell_type": "code",
   "execution_count": 6,
   "metadata": {},
   "outputs": [
    {
     "name": "stdout",
     "output_type": "stream",
     "text": [
      "Advertencia de asteroide\n",
      "Velocidad peligrosa, Coooorreee\n"
     ]
    }
   ],
   "source": [
    "# Añadir el código necesario para crear una variable que guarde la velocidad del asteroide.\n",
    "# Escribe una expresión de prueba para calcular si necesita una advertencia.\n",
    "# Agregue las instrucciones que se ejecutarán si la expresión de prueba es true o false.\n",
    "\n",
    "print(\"Advertencia de asteroide\")\n",
    "velocidad= 23\n",
    "if velocidad >= 20:\n",
    "   print(\"Velocidad peligrosa, Coooorreee\")\n",
    "else:\n",
    "    print(\"Tranquilo no pasa nada\")\n"
   ]
  },
  {
   "cell_type": "code",
   "execution_count": null,
   "metadata": {},
   "outputs": [],
   "source": [
    "velocidad = 19\n",
    "if velocidad > 20:\n",
    "    print('Mira al cielo! ¡Hay una luz mágica en el cielo!')\n",
    "elif velocidad == 20:\n",
    "    print('Mira al cielo! ¡Hay una luz mágica en el cielo!')\n",
    "else:\n",
    "    print('¡No pasa nada!')"
   ]
  },
  {
   "cell_type": "code",
   "execution_count": 8,
   "metadata": {},
   "outputs": [
    {
     "name": "stdout",
     "output_type": "stream",
     "text": [
      "¡Alerta, Un asteroide muy peligroso viene hacia la Tierra!\n"
     ]
    }
   ],
   "source": [
    "velocidad_asteroide = 26\n",
    "dimension_asteroide = 500\n",
    "if velocidad_asteroide > 25 and dimension_asteroide < 1000:\n",
    "    print('¡Alerta, Un asteroide muy peligroso viene hacia la Tierra!')\n",
    "elif velocidad_asteroide >= 20:\n",
    "    print('Mira al cielo! ¡Hay un rayo de luz!')\n",
    "elif dimension_asteroide < 25:\n",
    "    print('El asteroide se desintegrará!!!')\n",
    "else:\n",
    "    print('Todo tranquilo !!!')"
   ]
  }
 ],
 "metadata": {
  "interpreter": {
   "hash": "63fd5069d213b44bf678585dea6b12cceca9941eaf7f819626cde1f2670de90d"
  },
  "kernelspec": {
   "display_name": "Python 3.9.6 64-bit",
   "language": "python",
   "name": "python3"
  },
  "language_info": {
   "codemirror_mode": {
    "name": "ipython",
    "version": 3
   },
   "file_extension": ".py",
   "mimetype": "text/x-python",
   "name": "python",
   "nbconvert_exporter": "python",
   "pygments_lexer": "ipython3",
   "version": "3.9.6"
  },
  "orig_nbformat": 4
 },
 "nbformat": 4,
 "nbformat_minor": 2
}
